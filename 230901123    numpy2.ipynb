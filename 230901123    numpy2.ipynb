{
 "cells": [
  {
   "cell_type": "code",
   "execution_count": 4,
   "id": "7101f734",
   "metadata": {},
   "outputs": [
    {
     "name": "stdout",
     "output_type": "stream",
     "text": [
      "[3 5 7]\n"
     ]
    }
   ],
   "source": [
    "import numpy as np\n",
    "arr=np.array([1,2,3,4,5,6,7,8])\n",
    "slice1=arr[2:8:2]\n",
    "print(slice1)"
   ]
  },
  {
   "cell_type": "code",
   "execution_count": null,
   "id": "164bc74c",
   "metadata": {},
   "outputs": [],
   "source": []
  },
  {
   "cell_type": "raw",
   "id": "34009ea3",
   "metadata": {},
   "source": []
  },
  {
   "cell_type": "code",
   "execution_count": 5,
   "id": "bc95c7f4",
   "metadata": {},
   "outputs": [
    {
     "name": "stdout",
     "output_type": "stream",
     "text": [
      "[8 7 6 5 4 3 2 1]\n"
     ]
    }
   ],
   "source": [
    "rev_arr=arr[::-1]\n",
    "print(rev_arr)"
   ]
  },
  {
   "cell_type": "markdown",
   "id": "3b9a71f8",
   "metadata": {},
   "source": [
    "## a=np.array([[1,2,3,4],[5,6,7,8],[9,10,11,12]])\n",
    "print(a[0:3:2])\n",
    "print(a[0::2])\n",
    "print(a[::])\n",
    "print(a[2:2:2])"
   ]
  },
  {
   "cell_type": "code",
   "execution_count": 1,
   "id": "a45a0365",
   "metadata": {},
   "outputs": [
    {
     "name": "stdout",
     "output_type": "stream",
     "text": [
      "[[2 3]\n",
      " [5 6]]\n"
     ]
    }
   ],
   "source": [
    "import numpy as np\n",
    "arr=np.array(([1,2,3],[4,5,6],[7,8,9]))\n",
    "subarray=arr[0:2,1:3]\n",
    "print(subarray)"
   ]
  },
  {
   "cell_type": "raw",
   "id": "57ce25e9",
   "metadata": {},
   "source": []
  },
  {
   "cell_type": "code",
   "execution_count": 3,
   "id": "b38901fd",
   "metadata": {},
   "outputs": [
    {
     "name": "stdout",
     "output_type": "stream",
     "text": [
      "[[7 8 9]\n",
      " [4 5 6]\n",
      " [1 2 3]]\n"
     ]
    }
   ],
   "source": [
    "reversed_array=arr[::-1]\n",
    "print(reversed_array)"
   ]
  },
  {
   "cell_type": "code",
   "execution_count": 15,
   "id": "137f533a",
   "metadata": {},
   "outputs": [
    {
     "name": "stdout",
     "output_type": "stream",
     "text": [
      "10\n",
      "50\n",
      "50\n",
      "[20 30 40]\n",
      "[10 10 10 10 10]\n",
      "[20 40]\n"
     ]
    }
   ],
   "source": [
    "import numpy as np\n",
    "arr=np.array([10,20,30,40,50])\n",
    "print(arr[0])\n",
    "print(arr[4])\n",
    "print(arr[-1])\n",
    "print(arr[1:4])\n",
    "print(arr[arr>>25])\n",
    "print(arr[[1,3]])\n"
   ]
  },
  {
   "cell_type": "code",
   "execution_count": 14,
   "id": "e5d67c30",
   "metadata": {},
   "outputs": [
    {
     "name": "stdout",
     "output_type": "stream",
     "text": [
      "1\n",
      "6\n"
     ]
    }
   ],
   "source": [
    "import numpy as np\n",
    "arr=np.array([[1,2,3],[4,5,6],[7,8,9]])\n",
    "print(arr[0,0])\n",
    "print(arr[1,2])"
   ]
  },
  {
   "cell_type": "code",
   "execution_count": 17,
   "id": "bd465e4f",
   "metadata": {},
   "outputs": [
    {
     "name": "stdout",
     "output_type": "stream",
     "text": [
      "[[1 2 5 6]\n",
      " [3 4 7 8]]\n"
     ]
    }
   ],
   "source": [
    "import numpy as np\n",
    "arr1=np.array([[1,2],[3,4]])\n",
    "arr2=np.array([[5,6],[7,8]])\n",
    "result=np.hstack((arr1,arr2))\n",
    "print(result)"
   ]
  },
  {
   "cell_type": "code",
   "execution_count": 19,
   "id": "475170b6",
   "metadata": {},
   "outputs": [
    {
     "name": "stdout",
     "output_type": "stream",
     "text": [
      "[[1 2]\n",
      " [3 4]\n",
      " [5 6]\n",
      " [7 8]]\n"
     ]
    }
   ],
   "source": [
    "result1=np.vstack((arr1,arr2))\n",
    "print(result1)"
   ]
  },
  {
   "cell_type": "code",
   "execution_count": null,
   "id": "d55b86c5",
   "metadata": {},
   "outputs": [],
   "source": []
  }
 ],
 "metadata": {
  "kernelspec": {
   "display_name": "Python 3 (ipykernel)",
   "language": "python",
   "name": "python3"
  },
  "language_info": {
   "codemirror_mode": {
    "name": "ipython",
    "version": 3
   },
   "file_extension": ".py",
   "mimetype": "text/x-python",
   "name": "python",
   "nbconvert_exporter": "python",
   "pygments_lexer": "ipython3",
   "version": "3.11.5"
  }
 },
 "nbformat": 4,
 "nbformat_minor": 5
}
