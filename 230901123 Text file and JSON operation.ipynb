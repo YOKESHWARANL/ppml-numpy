{
 "cells": [
  {
   "cell_type": "code",
   "execution_count": 1,
   "id": "0ade0018",
   "metadata": {},
   "outputs": [],
   "source": [
    "f=open(\"/Users/student/Downloads/ data1.txt\",\"w\")\n",
    "f.write(\"Sai\\n\")\n",
    "f.write(\"Raj\\n\")\n",
    "f.write(\"John\\n\")\n",
    "f.close()"
   ]
  },
  {
   "cell_type": "code",
   "execution_count": 2,
   "id": "7bc1be29",
   "metadata": {},
   "outputs": [
    {
     "name": "stdout",
     "output_type": "stream",
     "text": [
      "Sai\n",
      "\n",
      "Raj\n",
      "\n",
      "John\n",
      "\n"
     ]
    }
   ],
   "source": [
    "a=open(\"/Users/student/Downloads/ data1.txt\",\"r\")\n",
    "print(a.readline())\n",
    "print(a.readline())\n",
    "print(a.readline())\n",
    "f.close()"
   ]
  },
  {
   "cell_type": "code",
   "execution_count": 5,
   "id": "90270652",
   "metadata": {},
   "outputs": [],
   "source": [
    "a=open(\"/Users/student/Downloads/ data1.txt\",\"a\")\n",
    "a.write(\"ram \\n\")\n",
    "a.write(\"mano \\n\")\n",
    "a.close()"
   ]
  },
  {
   "cell_type": "code",
   "execution_count": 7,
   "id": "eedc8b5a",
   "metadata": {},
   "outputs": [
    {
     "name": "stdout",
     "output_type": "stream",
     "text": [
      "Sai\n",
      "Raj\n",
      "John\n",
      "ram \n",
      "mano \n",
      "ram \n",
      "mano \n",
      "ram \n",
      "mano \n",
      "\n"
     ]
    }
   ],
   "source": [
    "c=open(\"/Users/student/Downloads/ data1.txt\",\"r\")\n",
    "print(c.read())"
   ]
  },
  {
   "cell_type": "code",
   "execution_count": 8,
   "id": "6b121f46",
   "metadata": {},
   "outputs": [
    {
     "name": "stdout",
     "output_type": "stream",
     "text": [
      "['Sai\\n', 'Raj\\n', 'John\\n', 'ram \\n', 'mano \\n', 'ram \\n', 'mano \\n', 'ram \\n', 'mano \\n']\n"
     ]
    }
   ],
   "source": [
    "with open(\"/Users/student/Downloads/ data1.txt\",\"r\") as file:\n",
    "    lines=file.readlines()\n",
    "    print(lines)"
   ]
  },
  {
   "cell_type": "code",
   "execution_count": 13,
   "id": "794bdaf2",
   "metadata": {},
   "outputs": [
    {
     "name": "stdout",
     "output_type": "stream",
     "text": [
      "rajasthan\n"
     ]
    }
   ],
   "source": [
    "import json\n",
    "x='{\"name\":\"saran\",\"age\":\"20\",\"city\":\"rajasthan\"}'\n",
    "y=json.loads(x)\n",
    "print(y[\"city\"])"
   ]
  },
  {
   "cell_type": "code",
   "execution_count": 15,
   "id": "c555db7e",
   "metadata": {},
   "outputs": [
    {
     "name": "stdout",
     "output_type": "stream",
     "text": [
      "{\"name\": \"raj\", \"age\": \"20\", \"city\": \"london\"}\n"
     ]
    }
   ],
   "source": [
    "x={\"name\":\"raj\",\"age\":\"20\",\"city\":\"london\"}\n",
    "y=json.dumps(x)\n",
    "print(y)"
   ]
  },
  {
   "cell_type": "code",
   "execution_count": null,
   "id": "9917030b",
   "metadata": {},
   "outputs": [],
   "source": []
  }
 ],
 "metadata": {
  "kernelspec": {
   "display_name": "Python 3 (ipykernel)",
   "language": "python",
   "name": "python3"
  },
  "language_info": {
   "codemirror_mode": {
    "name": "ipython",
    "version": 3
   },
   "file_extension": ".py",
   "mimetype": "text/x-python",
   "name": "python",
   "nbconvert_exporter": "python",
   "pygments_lexer": "ipython3",
   "version": "3.11.5"
  }
 },
 "nbformat": 4,
 "nbformat_minor": 5
}
