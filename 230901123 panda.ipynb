{
 "cells": [
  {
   "cell_type": "code",
   "execution_count": 5,
   "id": "1257e678",
   "metadata": {},
   "outputs": [
    {
     "name": "stdout",
     "output_type": "stream",
     "text": [
      "Empty DataFrame\n",
      "Columns: []\n",
      "Index: []\n"
     ]
    }
   ],
   "source": [
    "import pandas as pd\n",
    "df=pd.DataFrame()\n",
    "print(df)"
   ]
  },
  {
   "cell_type": "code",
   "execution_count": 6,
   "id": "68378880",
   "metadata": {},
   "outputs": [
    {
     "name": "stdout",
     "output_type": "stream",
     "text": [
      "\n",
      " series to data frame \n",
      "\n",
      "         emp  ID\n",
      "0     Dharun  80\n",
      "1     Sudeep  90\n",
      "2       Siva  28\n",
      "3       Yash  57\n",
      "4  Keerthana  49\n"
     ]
    }
   ],
   "source": [
    "emp=pd.Series(['Dharun','Sudeep','Siva','Yash','Keerthana'])\n",
    "id=pd.Series([80,90,28,57,49])\n",
    "frame={'emp':emp,'ID':id}\n",
    "res=pd.DataFrame(frame)\n",
    "print(\"\\n series to data frame \\n\")\n",
    "print(res)"
   ]
  },
  {
   "cell_type": "code",
   "execution_count": 8,
   "id": "7cbb14a8",
   "metadata": {},
   "outputs": [
    {
     "name": "stdout",
     "output_type": "stream",
     "text": [
      "\n",
      " Extracting one column \n",
      "\n",
      "0       Dharun\n",
      "1       Sudeep\n",
      "2         Siva\n",
      "3         Yash\n",
      "4    Keerthana\n",
      "Name: emp, dtype: object\n"
     ]
    }
   ],
   "source": [
    "print(\"\\n Extracting one column \\n\")\n",
    "print(res['emp'])\n"
   ]
  },
  {
   "cell_type": "code",
   "execution_count": 10,
   "id": "48e35dfa",
   "metadata": {},
   "outputs": [
    {
     "name": "stdout",
     "output_type": "stream",
     "text": [
      "\n",
      " assing one column:\n",
      "\n",
      "         emp  ID  Age\n",
      "0     Dharun  80   19\n",
      "1     Sudeep  90   90\n",
      "2       Siva  28   34\n",
      "3       Yash  56   67\n",
      "4  Keerthana  89   20\n"
     ]
    }
   ],
   "source": [
    "print(\"\\n assing one column:\\n\")\n",
    "res['ID']=pd.Series([80,90,28,56,89])\n",
    "res['Age']=pd.Series([19,90,34,67,20])\n",
    "print(res)"
   ]
  },
  {
   "cell_type": "code",
   "execution_count": 27,
   "id": "d7c352fa",
   "metadata": {},
   "outputs": [
    {
     "name": "stdout",
     "output_type": "stream",
     "text": [
      "\n",
      " Deletin new column\n",
      "         emp  ID\n",
      "0     Dharun  80\n",
      "1     Sudeep  90\n",
      "2       Siva  28\n",
      "3       Yash  56\n",
      "4  Keerthana  89\n"
     ]
    }
   ],
   "source": [
    "print(\"\\n Deleting new column\")\n",
    "del res['Age']\n",
    "print(res)"
   ]
  },
  {
   "cell_type": "code",
   "execution_count": 30,
   "id": "87d9bd06",
   "metadata": {},
   "outputs": [
    {
     "name": "stdout",
     "output_type": "stream",
     "text": [
      "\n",
      " extracting the several rows \n",
      "\n",
      "emp    Sudeep\n",
      "ID         90\n",
      "Name: 1, dtype: object\n"
     ]
    }
   ],
   "source": [
    "print(\"\\n extracting the several rows \\n\")\n",
    "print(res.loc[1])"
   ]
  },
  {
   "cell_type": "code",
   "execution_count": 32,
   "id": "30cbbd5f",
   "metadata": {},
   "outputs": [
    {
     "name": "stdout",
     "output_type": "stream",
     "text": [
      "Slice rows:\n",
      "       emp  ID\n",
      "1  Sudeep  90\n",
      "2    Siva  28\n",
      "3    Yash  56\n"
     ]
    }
   ],
   "source": [
    "print(\"Slice rows:\\n\",res[1:4])"
   ]
  },
  {
   "cell_type": "code",
   "execution_count": null,
   "id": "c6e10d52",
   "metadata": {},
   "outputs": [],
   "source": []
  }
 ],
 "metadata": {
  "kernelspec": {
   "display_name": "Python 3 (ipykernel)",
   "language": "python",
   "name": "python3"
  },
  "language_info": {
   "codemirror_mode": {
    "name": "ipython",
    "version": 3
   },
   "file_extension": ".py",
   "mimetype": "text/x-python",
   "name": "python",
   "nbconvert_exporter": "python",
   "pygments_lexer": "ipython3",
   "version": "3.11.5"
  }
 },
 "nbformat": 4,
 "nbformat_minor": 5
}
