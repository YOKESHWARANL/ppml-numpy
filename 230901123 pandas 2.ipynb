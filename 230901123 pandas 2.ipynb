{
 "cells": [
  {
   "cell_type": "code",
   "execution_count": 12,
   "id": "f19dde31",
   "metadata": {},
   "outputs": [
    {
     "name": "stdout",
     "output_type": "stream",
     "text": [
      "DataFrame.apply function:\n",
      "\n",
      "\n",
      " original DataFrame \n",
      "    S  R\n",
      "0  3  9\n",
      "1  3  9\n",
      "2  3  9\n",
      "3  3  9\n",
      "\n",
      " Squareroot of DataFrame:\n",
      "           S    R\n",
      "0  1.732051  3.0\n",
      "1  1.732051  3.0\n",
      "2  1.732051  3.0\n",
      "3  1.732051  3.0\n",
      "sum of each column:\n",
      " S    12\n",
      "R    36\n",
      "dtype: int64\n",
      "sum of each row:\n",
      " 0    12\n",
      "1    12\n",
      "2    12\n",
      "3    12\n",
      "dtype: int64\n"
     ]
    }
   ],
   "source": [
    "import pandas as pd\n",
    "import numpy as np\n",
    "print(\"DataFrame.apply function:\\n\")\n",
    "info=pd.DataFrame([[3,9]]*4, columns=['S','R'])\n",
    "print(\"\\n original DataFrame \\n\",info)\n",
    "print(\"\\n Squareroot of DataFrame:\\n\",info.apply(np.sqrt))\n",
    "print(\"sum of each column:\\n\",info.apply(np.sum,axis=0))\n",
    "print(\"sum of each row:\\n\",info.apply(np.sum,axis=1))\n"
   ]
  },
  {
   "cell_type": "code",
   "execution_count": 14,
   "id": "215da474",
   "metadata": {},
   "outputs": [
    {
     "name": "stdout",
     "output_type": "stream",
     "text": [
      "\n",
      " original DatFrame:\n",
      "    X  Y  Z\n",
      "0  2  4  6\n",
      "1  1  3  5\n",
      "2  5  7  8\n",
      "\n",
      " minimum and maximum value each column:\n",
      "\n",
      "     X  Y  Z\n",
      "min  1  3  5\n",
      "max  5  7  8\n"
     ]
    }
   ],
   "source": [
    "info=pd.DataFrame([[2,4,6],[1,3,5],[5,7,8]],columns=['X','Y','Z'])\n",
    "print(\"\\n original DatFrame:\\n\",info)\n",
    "print(\"\\n minimum and maximum value each column:\\n\")\n",
    "print(info.agg(['min','max']))"
   ]
  },
  {
   "cell_type": "code",
   "execution_count": 5,
   "id": "d4152600",
   "metadata": {},
   "outputs": [
    {
     "name": "stdout",
     "output_type": "stream",
     "text": [
      "\n",
      " DataFrame.assign function:\n",
      "\n",
      " original DataFrame:\n",
      "    0   1\n",
      "0  A  88\n",
      "1  B  70\n",
      "\n",
      " Adding new columns:\n",
      "    0   1  Age\n",
      "0  A  88   20\n",
      "1  B  70   18\n",
      "\n",
      " adding new columns:\n",
      "    0   1  Age   sex\n",
      "0  A  88   20  Male\n",
      "1  B  70   18  Male\n"
     ]
    }
   ],
   "source": [
    "import pandas as pd\n",
    "import numpy as np\n",
    "print(\"\\n DataFrame.assign function:\")\n",
    "d2=pd.DataFrame([['A',88],['B',70]])\n",
    "columns=(['Emp','ID'])\n",
    "print(\"\\n original DataFrame:\\n\",d2)\n",
    "d2['Age']=[20,18]\n",
    "print(\"\\n Adding new columns:\\n\",d2)\n",
    "d=d2.assign(sex=['Male','Male'])\n",
    "print(\"\\n adding new columns:\\n\",d)"
   ]
  },
  {
   "cell_type": "code",
   "execution_count": 4,
   "id": "1ee9e50b",
   "metadata": {},
   "outputs": [
    {
     "name": "stdout",
     "output_type": "stream",
     "text": [
      "\n",
      " DataFrame.sort function:\n",
      "\n",
      "          A         B\n",
      "3 -0.136248  1.341679\n",
      "2  0.084450 -0.190697\n",
      "0 -0.551072  0.343493\n",
      "4  0.269150 -0.052594\n",
      "1 -1.598503  0.431641\n",
      "\n",
      " sort index:\n",
      "           A         B\n",
      "0 -0.551072  0.343493\n",
      "1 -1.598503  0.431641\n",
      "2  0.084450 -0.190697\n",
      "3 -0.136248  1.341679\n",
      "4  0.269150 -0.052594\n",
      "\n",
      " sort values:\n",
      "           A         B\n",
      "1 -1.598503  0.431641\n",
      "0 -0.551072  0.343493\n",
      "3 -0.136248  1.341679\n",
      "2  0.084450 -0.190697\n",
      "4  0.269150 -0.052594\n"
     ]
    }
   ],
   "source": [
    "import pandas as pd\n",
    "import numpy as np\n",
    "print(\"\\n DataFrame.sort function:\\n\")\n",
    "info=pd.DataFrame(np.random.randn(5,2),index=[3,2,0,4,1],columns=['A','B'])\n",
    "print(info)\n",
    "info2=info.sort_index()\n",
    "print(\"\\n sort index:\\n\",info2)\n",
    "info3=info.sort_values(by='A')\n",
    "print(\"\\n sort values:\\n\",info3)"
   ]
  },
  {
   "cell_type": "code",
   "execution_count": 6,
   "id": "f766c371",
   "metadata": {},
   "outputs": [
    {
     "name": "stdout",
     "output_type": "stream",
     "text": [
      "\n",
      " DataFrame Merge function:\n",
      "\n",
      "   id  name    sub\n",
      "0   1   sam  sub 1\n",
      "1   2  yash  sub 2\n",
      "2   3   ram  sub 3\n",
      "3   4  raja  sub 4\n",
      "   id    name    sub\n",
      "0   1     ram  sub 1\n",
      "1   2     sam  sub 4\n",
      "2   3  akshai  sub 3\n",
      "3   4    babu  sub 2\n",
      "   id name_x  sub_x  name_y  sub_y\n",
      "0   1    sam  sub 1     ram  sub 1\n",
      "1   2   yash  sub 2     sam  sub 4\n",
      "2   3    ram  sub 3  akshai  sub 3\n",
      "3   4   raja  sub 4    babu  sub 2\n"
     ]
    }
   ],
   "source": [
    "print(\"\\n DataFrame Merge function:\\n\")\n",
    "left=pd.DataFrame({'id':[1,2,3,4],'name':['sam','yash','ram','raja'],'sub':['sub 1','sub 2','sub 3','sub 4']})\n",
    "right=pd.DataFrame({'id':[1,2,3,4],'name':['ram','sam','akshai','babu'],'sub':['sub 1','sub 4','sub 3','sub 2']})\n",
    "print(left)\n",
    "print(right)\n",
    "print(pd.merge(left,right,on='id'))"
   ]
  },
  {
   "cell_type": "code",
   "execution_count": null,
   "id": "ef765ec7",
   "metadata": {},
   "outputs": [],
   "source": []
  }
 ],
 "metadata": {
  "kernelspec": {
   "display_name": "Python 3 (ipykernel)",
   "language": "python",
   "name": "python3"
  },
  "language_info": {
   "codemirror_mode": {
    "name": "ipython",
    "version": 3
   },
   "file_extension": ".py",
   "mimetype": "text/x-python",
   "name": "python",
   "nbconvert_exporter": "python",
   "pygments_lexer": "ipython3",
   "version": "3.11.5"
  }
 },
 "nbformat": 4,
 "nbformat_minor": 5
}
