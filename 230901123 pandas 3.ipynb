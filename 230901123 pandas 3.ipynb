{
 "cells": [
  {
   "cell_type": "code",
   "execution_count": 2,
   "id": "e409fcea",
   "metadata": {},
   "outputs": [
    {
     "name": "stdout",
     "output_type": "stream",
     "text": [
      "Series from array:\n",
      "0    s\n",
      "1    a\n",
      "2    i\n",
      "3    b\n",
      "4    l\n",
      "5    i\n",
      "dtype: object\n"
     ]
    }
   ],
   "source": [
    "import pandas as pd\n",
    "import numpy as np\n",
    "arr=np.array(['s','a','i','b','l','i'])\n",
    "a=pd.Series(arr)\n",
    "print(\"Series from array:\")\n",
    "print(a)"
   ]
  },
  {
   "cell_type": "code",
   "execution_count": 3,
   "id": "6dae9b40",
   "metadata": {},
   "outputs": [
    {
     "name": "stdout",
     "output_type": "stream",
     "text": [
      "\n",
      " Series from dictionary\n",
      "a    0\n",
      "b    1\n",
      "c    2\n",
      "dtype: int64\n"
     ]
    }
   ],
   "source": [
    "arr={'a':0,'b':1,'c':2}\n",
    "b=pd.Series(arr)\n",
    "print(\"\\n Series from dictionary\")\n",
    "print(b)"
   ]
  },
  {
   "cell_type": "code",
   "execution_count": 5,
   "id": "d2e1c42a",
   "metadata": {},
   "outputs": [
    {
     "name": "stdout",
     "output_type": "stream",
     "text": [
      "\n",
      " series using scalar \n",
      "\n",
      "0    4\n",
      "1    4\n",
      "2    4\n",
      "3    4\n",
      "dtype: int64\n"
     ]
    }
   ],
   "source": [
    "x=pd.Series(4,index=[0,1,2,3])\n",
    "print(\"\\n series using scalar \\n\")\n",
    "print(x)"
   ]
  },
  {
   "cell_type": "code",
   "execution_count": 6,
   "id": "56be30c7",
   "metadata": {},
   "outputs": [
    {
     "name": "stdout",
     "output_type": "stream",
     "text": [
      "\n",
      " series \n",
      " 0    s\n",
      "1    a\n",
      "2    i\n",
      "3    b\n",
      "4    l\n",
      "5    i\n",
      "dtype: object\n",
      "\n",
      " index:\n",
      " RangeIndex(start=0, stop=6, step=1)\n",
      "\n",
      " values :\n",
      " ['s' 'a' 'i' 'b' 'l' 'i']\n",
      "\n",
      " shape: \n",
      " (6,)\n",
      "\n",
      " dimension :\n",
      " 1\n",
      "\n",
      " size :\n",
      " 6\n"
     ]
    }
   ],
   "source": [
    "print(\"\\n series \\n\",a)\n",
    "print(\"\\n index:\\n\",a.index)\n",
    "print(\"\\n values :\\n\",a.values)\n",
    "print(\"\\n shape: \\n\",a.shape)\n",
    "print(\"\\n dimension :\\n\",a.ndim)\n",
    "print(\"\\n size :\\n\",a.size)"
   ]
  },
  {
   "cell_type": "code",
   "execution_count": null,
   "id": "bb4b8af9",
   "metadata": {},
   "outputs": [],
   "source": [
    "\n"
   ]
  }
 ],
 "metadata": {
  "kernelspec": {
   "display_name": "Python 3 (ipykernel)",
   "language": "python",
   "name": "python3"
  },
  "language_info": {
   "codemirror_mode": {
    "name": "ipython",
    "version": 3
   },
   "file_extension": ".py",
   "mimetype": "text/x-python",
   "name": "python",
   "nbconvert_exporter": "python",
   "pygments_lexer": "ipython3",
   "version": "3.11.5"
  }
 },
 "nbformat": 4,
 "nbformat_minor": 5
}
