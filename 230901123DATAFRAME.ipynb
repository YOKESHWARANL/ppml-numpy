{
 "cells": [
  {
   "cell_type": "code",
   "execution_count": 6,
   "id": "c465a24b",
   "metadata": {},
   "outputs": [
    {
     "name": "stdout",
     "output_type": "stream",
     "text": [
      "Original DataFrame with NaN\n",
      "         one       two     three\n",
      "a -1.335581 -1.659767  1.207837\n",
      "b       NaN       NaN       NaN\n",
      "c  0.785737  0.105136  0.016196\n",
      "d  0.153722  1.430788  0.182176\n",
      "e       NaN       NaN       NaN\n",
      "f  0.409784 -0.386878 -0.719593\n",
      "\n",
      "\n",
      "dropped DataFrame\n",
      "         one       two     three\n",
      "a -1.335581 -1.659767  1.207837\n",
      "c  0.785737  0.105136  0.016196\n",
      "d  0.153722  1.430788  0.182176\n",
      "f  0.409784 -0.386878 -0.719593\n",
      "\n",
      "\n"
     ]
    }
   ],
   "source": [
    "import pandas as pd\n",
    "import numpy as np\n",
    "df=pd.DataFrame(np.random.randn(4,3),index=['a','c','d','f'],columns=['one','two','three'])\n",
    "df=df.reindex(['a','b','c','d','e','f'])\n",
    "print(\"Original DataFrame with NaN\\n\",df)\n",
    "print(\"\\n\")\n",
    "print(\"dropped DataFrame\\n\",df.dropna())\n",
    "print(\"\\n\")"
   ]
  },
  {
   "cell_type": "code",
   "execution_count": 8,
   "id": "cf591a5b",
   "metadata": {},
   "outputs": [
    {
     "name": "stdout",
     "output_type": "stream",
     "text": [
      "Original DataFrame:\n",
      "         one       two     three\n",
      "a  0.017115 -1.193114  0.189302\n",
      "b       NaN       NaN       NaN\n",
      "c -0.158374  1.200373 -1.567564\n",
      "\n",
      "\n",
      "dropped DataFrame\n",
      "         one       two     three\n",
      "a  0.017115 -1.193114  0.189302\n",
      "b  0.000000  0.000000  0.000000\n",
      "c -0.158374  1.200373 -1.567564\n",
      "\n",
      "\n"
     ]
    }
   ],
   "source": [
    "import pandas as pd\n",
    "import numpy as np\n",
    "df=pd.DataFrame(np.random.randn(4,3),index=['a','c','d','f'],columns=['one','two','three'])\n",
    "df=df.reindex(['a','b','c'])\n",
    "print(\"Original DataFrame:\\n\",df)\n",
    "print(\"\\n\")\n",
    "print(\"dropped DataFrame\\n\",df.fillna(0))\n",
    "print(\"\\n\")"
   ]
  },
  {
   "cell_type": "code",
   "execution_count": 10,
   "id": "127fabf7",
   "metadata": {},
   "outputs": [
    {
     "name": "stdout",
     "output_type": "stream",
     "text": [
      "Original DataFrame:\n",
      "    one  two\n",
      "0   10   60\n",
      "1   20   70\n",
      "2   30   80\n",
      "3   40    0\n",
      "4   50   10\n",
      "\n",
      " DataFrame with replaced values:\n",
      "\n",
      "   one  two\n",
      "0    5   60\n",
      "1   20   70\n",
      "2   30    3\n",
      "3   40    0\n",
      "4   50    5\n"
     ]
    }
   ],
   "source": [
    "df=pd.DataFrame({'one':[10,20,30,40,50],'two':[60,70,80,0,10]})\n",
    "print(\"Original DataFrame:\\n\",df)\n",
    "print(\"\\n DataFrame with replaced values:\\n\")\n",
    "print(df.replace({10:5,80:3}))"
   ]
  },
  {
   "cell_type": "code",
   "execution_count": 13,
   "id": "33855f57",
   "metadata": {},
   "outputs": [
    {
     "name": "stdout",
     "output_type": "stream",
     "text": [
      "Original DataFrame:\n",
      "         one       two     three\n",
      "a  1.427440  1.139991  1.396683\n",
      "b       NaN       NaN       NaN\n",
      "c  0.085339 -1.056701  0.753729\n",
      "d  0.408817  0.220846  0.799146\n",
      "e       NaN       NaN       NaN\n",
      "f -1.153633  1.010734 -0.629987\n",
      "\n",
      " NaN-with True fill:\n",
      "\n",
      "a    False\n",
      "b     True\n",
      "c    False\n",
      "d    False\n",
      "e     True\n",
      "f    False\n",
      "Name: one, dtype: bool\n"
     ]
    }
   ],
   "source": [
    "df=pd.DataFrame(np.random.randn(4,3),index=['a','c','d','f'],columns=['one','two','three'])\n",
    "df=df.reindex(['a','b','c','d','e','f'])\n",
    "print(\"Original DataFrame:\\n\",df)\n",
    "print(\"\\n NaN-with True fill:\\n\")\n",
    "print(df['one'].isnull())"
   ]
  },
  {
   "cell_type": "code",
   "execution_count": 16,
   "id": "94f1009f",
   "metadata": {},
   "outputs": [
    {
     "name": "stdout",
     "output_type": "stream",
     "text": [
      "NaN filled with background values:\n",
      "\n",
      "        one       two     three\n",
      "a  1.427440  1.139991  1.396683\n",
      "b  0.085339 -1.056701  0.753729\n",
      "c  0.085339 -1.056701  0.753729\n",
      "d  0.408817  0.220846  0.799146\n",
      "e -1.153633  1.010734 -0.629987\n",
      "f -1.153633  1.010734 -0.629987\n"
     ]
    }
   ],
   "source": [
    "\n",
    "print(\"NaN filled with background values:\\n\")\n",
    "print(df.fillna(method=\"bfill\"))"
   ]
  },
  {
   "cell_type": "code",
   "execution_count": null,
   "id": "9118e345",
   "metadata": {},
   "outputs": [],
   "source": []
  }
 ],
 "metadata": {
  "kernelspec": {
   "display_name": "Python 3 (ipykernel)",
   "language": "python",
   "name": "python3"
  },
  "language_info": {
   "codemirror_mode": {
    "name": "ipython",
    "version": 3
   },
   "file_extension": ".py",
   "mimetype": "text/x-python",
   "name": "python",
   "nbconvert_exporter": "python",
   "pygments_lexer": "ipython3",
   "version": "3.11.5"
  }
 },
 "nbformat": 4,
 "nbformat_minor": 5
}
