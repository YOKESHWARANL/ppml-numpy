{
 "cells": [
  {
   "cell_type": "code",
   "execution_count": 22,
   "id": "e9c5fd95-3ab4-4ba4-b71a-fb2d1bb424ca",
   "metadata": {},
   "outputs": [
    {
     "name": "stdout",
     "output_type": "stream",
     "text": [
      "Original Data:\n",
      "\n",
      "    S.NO  ROLL NO.      NAME   ENG  TAMIL  MATHS  SCIENCE  SOCIAL  TOTAL\n",
      "0      1       101   Ronaldo  87.0   15.0   48.0     79.0    93.0    322\n",
      "1      2       102     Kohli  99.0   61.0   45.0     77.0    90.0    372\n",
      "2      3       103     Rohit  78.0   45.0   35.0     89.0    45.0    292\n",
      "3      4       104   Shubman  98.0   65.0   54.0     45.0    75.0    337\n",
      "4      5       105   Shreyas  35.0   76.0   78.0     36.0    76.0    301\n",
      "5      6       106     Rahul  59.0   87.0   87.0     25.0    76.0    334\n",
      "6      7       107      Axar  78.0   98.0   65.0     75.0    87.0    403\n",
      "7      8       108    Pandya  90.0   90.0   87.0     87.0    67.0    421\n",
      "8      9       109    Jadeja  75.0   98.0   65.0     85.0    76.0    399\n",
      "9     10       110     Shami   NaN    NaN    NaN      NaN     NaN      0\n",
      "10    11       111     Varun  75.0   67.0   56.0     56.0    77.0    331\n",
      "11    12       112   Kuldeep  24.0   56.0   67.0     86.0    67.0    300\n",
      "12    13       113     Smith  86.0   45.0   97.0     87.0    87.0    402\n",
      "13    14       114      Kane  77.0   34.0   87.0     90.0    45.0    333\n",
      "14    15       115     Gayle   NaN    NaN    NaN      NaN     NaN      0\n",
      "15    16       116     Bravo  92.0   43.0   57.0     76.0    64.0    332\n",
      "16    17       117     Steph  52.0   23.0   77.0     54.0    25.0    231\n",
      "17    18       118     Ramos  76.0   35.0   97.0     46.0    75.0    329\n",
      "18    19       119  Busquets  99.0   46.0   88.0     76.0    75.0    384\n",
      "19    20       120     Puyol  65.0   67.0   57.0     77.0    35.0    301\n"
     ]
    }
   ],
   "source": [
    "import pandas as pd\n",
    "pd.set_option('display.max_columns',10)\n",
    "print(\"Original Data:\\n\")\n",
    "df=pd.read_excel(\"/Users/student/Downloads/performance58.xlsx\")\n",
    "print(df)"
   ]
  },
  {
   "cell_type": "code",
   "execution_count": 23,
   "id": "c0c2bd05-ee69-4dec-8b90-cb2b73cf1328",
   "metadata": {},
   "outputs": [
    {
     "name": "stdout",
     "output_type": "stream",
     "text": [
      "0      Ronaldo\n",
      "1        Kohli\n",
      "2        Rohit\n",
      "3      Shubman\n",
      "4      Shreyas\n",
      "5        Rahul\n",
      "6         Axar\n",
      "7       Pandya\n",
      "8       Jadeja\n",
      "9        Shami\n",
      "10       Varun\n",
      "11     Kuldeep\n",
      "12       Smith\n",
      "13        Kane\n",
      "14       Gayle\n",
      "15       Bravo\n",
      "16       Steph\n",
      "17       Ramos\n",
      "18    Busquets\n",
      "19       Puyol\n",
      "Name: NAME, dtype: object\n"
     ]
    }
   ],
   "source": [
    "f=df[\"NAME\"].str.strip()\n",
    "f.to_excel(\"/Users/student/downloads/Empty 58.xlsx\")\n",
    "print(f)"
   ]
  },
  {
   "cell_type": "code",
   "execution_count": 26,
   "id": "1feafd2c-bd82-4861-81a5-4dedafb2f370",
   "metadata": {},
   "outputs": [
    {
     "name": "stdout",
     "output_type": "stream",
     "text": [
      "\n",
      "ReplaceValue:\n",
      "    S.NO  ROLL NO.      NAME   ENG  TAMIL  MATHS  SCIENCE  SOCIAL  TOTAL\n",
      "0      1       101   Ronaldo  87.0   15.0   48.0     79.0    93.0    322\n",
      "1      2       102     Kohli  99.0   61.0   45.0     77.0    90.0    372\n",
      "2      3       103     Rohit  78.0   45.0   35.0     89.0    45.0    292\n",
      "3      4       104   Shubman  98.0   65.0   54.0     45.0    75.0    337\n",
      "4      5       105   Shreyas  35.0   76.0   78.0     36.0    76.0    301\n",
      "5      6       106     Rahul  59.0   87.0   87.0     25.0    76.0    334\n",
      "6      7       107      Axar  78.0   98.0   65.0     75.0    87.0    403\n",
      "7      8       108    Pandya  90.0   90.0   87.0     87.0    67.0    421\n",
      "8      9       109    Jadeja  75.0   98.0   65.0     85.0    76.0    399\n",
      "9     10       110     Shami  75.0   98.0   65.0     85.0    76.0      0\n",
      "10    11       111     Varun  75.0   67.0   56.0     56.0    77.0    331\n",
      "11    12       112   Kuldeep  24.0   56.0   67.0     86.0    67.0    300\n",
      "12    13       113     Smith  86.0   45.0   97.0     87.0    87.0    402\n",
      "13    14       114      Kane  77.0   34.0   87.0     90.0    45.0    333\n",
      "14    15       115     Gayle  77.0   34.0   87.0     90.0    45.0      0\n",
      "15    16       116     Bravo  92.0   43.0   57.0     76.0    64.0    332\n",
      "16    17       117     Steph  52.0   23.0   77.0     54.0    25.0    231\n",
      "17    18       118     Ramos  76.0   35.0   97.0     46.0    75.0    329\n",
      "18    19       119  Busquets  99.0   46.0   88.0     76.0    75.0    384\n",
      "19    20       120     Puyol  65.0   67.0   57.0     77.0    35.0    301\n",
      "\n",
      " Updated List\n",
      "\n"
     ]
    }
   ],
   "source": [
    "print(\"\\nReplaceValue:\")\n",
    "k=df.fillna(method='pad')\n",
    "print(k)\n",
    "print(\"\\n Updated List\\n\")\n",
    "k.to_excel(\"/Users/student/downloads/Empty 58.xlsx\")"
   ]
  },
  {
   "cell_type": "code",
   "execution_count": 25,
   "id": "1b2afe59-f2a9-4c43-a111-96ddcdfaa967",
   "metadata": {},
   "outputs": [
    {
     "name": "stdout",
     "output_type": "stream",
     "text": [
      "\n",
      " drop one particular column and its values:\n",
      "\n",
      "    S.NO  ROLL NO.      NAME   ENG  TAMIL  MATHS  SCIENCE  TOTAL\n",
      "0      1       101   Ronaldo  87.0   15.0   48.0     79.0    322\n",
      "1      2       102     Kohli  99.0   61.0   45.0     77.0    372\n",
      "2      3       103     Rohit  78.0   45.0   35.0     89.0    292\n",
      "3      4       104   Shubman  98.0   65.0   54.0     45.0    337\n",
      "4      5       105   Shreyas  35.0   76.0   78.0     36.0    301\n",
      "5      6       106     Rahul  59.0   87.0   87.0     25.0    334\n",
      "6      7       107      Axar  78.0   98.0   65.0     75.0    403\n",
      "7      8       108    Pandya  90.0   90.0   87.0     87.0    421\n",
      "8      9       109    Jadeja  75.0   98.0   65.0     85.0    399\n",
      "9     10       110     Shami  75.0   98.0   65.0     85.0      0\n",
      "10    11       111     Varun  75.0   67.0   56.0     56.0    331\n",
      "11    12       112   Kuldeep  24.0   56.0   67.0     86.0    300\n",
      "12    13       113     Smith  86.0   45.0   97.0     87.0    402\n",
      "13    14       114      Kane  77.0   34.0   87.0     90.0    333\n",
      "14    15       115     Gayle  77.0   34.0   87.0     90.0      0\n",
      "15    16       116     Bravo  92.0   43.0   57.0     76.0    332\n",
      "16    17       117     Steph  52.0   23.0   77.0     54.0    231\n",
      "17    18       118     Ramos  76.0   35.0   97.0     46.0    329\n",
      "18    19       119  Busquets  99.0   46.0   88.0     76.0    384\n",
      "19    20       120     Puyol  65.0   67.0   57.0     77.0    301\n",
      "\n",
      " updated list\n",
      "\n"
     ]
    }
   ],
   "source": [
    "print(\"\\n drop one particular column and its values:\\n\")\n",
    "k.drop(['SOCIAL'],axis=1,inplace=True)\n",
    "print(k)\n",
    "print(\"\\n updated list\\n\")\n",
    "k.to_excel(\"/users/student/downloads/Empty 58.xlsx\")"
   ]
  },
  {
   "cell_type": "code",
   "execution_count": null,
   "id": "d91f07f6-210f-478c-8dc8-3ffc147309c5",
   "metadata": {},
   "outputs": [],
   "source": []
  },
  {
   "cell_type": "code",
   "execution_count": null,
   "id": "4e8a62c0-7642-4547-a008-9f5d9b23e92d",
   "metadata": {},
   "outputs": [],
   "source": []
  }
 ],
 "metadata": {
  "kernelspec": {
   "display_name": "Python 3 (ipykernel)",
   "language": "python",
   "name": "python3"
  },
  "language_info": {
   "codemirror_mode": {
    "name": "ipython",
    "version": 3
   },
   "file_extension": ".py",
   "mimetype": "text/x-python",
   "name": "python",
   "nbconvert_exporter": "python",
   "pygments_lexer": "ipython3",
   "version": "3.11.5"
  }
 },
 "nbformat": 4,
 "nbformat_minor": 5
}
