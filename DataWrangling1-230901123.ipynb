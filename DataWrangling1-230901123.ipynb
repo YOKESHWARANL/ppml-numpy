{
 "cells": [
  {
   "cell_type": "code",
   "execution_count": 5,
   "id": "bc8fa879-6c66-4475-956f-8ea395777f07",
   "metadata": {},
   "outputs": [
    {
     "name": "stdout",
     "output_type": "stream",
     "text": [
      "  name  age\n",
      "0  sri   20\n",
      "1  sai   21\n",
      "2  abi   22\n",
      "   qualified\n",
      "0       True\n",
      "1       True\n",
      "2      False\n",
      "  name  age  qualified\n",
      "0  sri   20       True\n",
      "1  sai   21       True\n",
      "2  abi   22      False\n"
     ]
    }
   ],
   "source": [
    "import pandas as pd\n",
    "d1={\"name\":[\"sri\",\"sai\",\"abi\"],\"age\":[20,21,22]}\n",
    "d2={\"qualified\":[True,True,False]}\n",
    "df1=pd.DataFrame(d1)\n",
    "print(df1)\n",
    "df2=pd.DataFrame(d2)\n",
    "print(df2)\n",
    "newdf=df1.join(df2)\n",
    "print(newdf)"
   ]
  },
  {
   "cell_type": "code",
   "execution_count": null,
   "id": "c19e09e1-24e7-4ba2-ae64-a3da8760bfad",
   "metadata": {},
   "outputs": [],
   "source": []
  },
  {
   "cell_type": "code",
   "execution_count": 6,
   "id": "abdbad0b-513f-4768-a3b9-88ab74923ca1",
   "metadata": {},
   "outputs": [
    {
     "name": "stdout",
     "output_type": "stream",
     "text": [
      "  name  age\n",
      "0  sri   20\n",
      "1  sai   21\n",
      "2  abi   22\n",
      "     name  age\n",
      "0    yuvi   20\n",
      "1   pooja   21\n",
      "2  sanjay   22\n",
      "   name_x  age name_y\n",
      "0    yuvi   20    sri\n",
      "1   pooja   21    sai\n",
      "2  sanjay   22    abi\n"
     ]
    }
   ],
   "source": [
    "import pandas as pd\n",
    "d1={\"name\":[\"sri\",\"sai\",\"abi\"],\"age\":[20,21,22]}\n",
    "d2={\"name\":[\"yuvi\",\"pooja\",\"sanjay\"],\"age\":[20,21,22]}\n",
    "df1=pd.DataFrame(d1)\n",
    "print(df1)\n",
    "df2=pd.DataFrame(d2)\n",
    "print(df2)\n",
    "newdf1=(df2.merge(df1,on=\"age\"))\n",
    "print(newdf1)"
   ]
  },
  {
   "cell_type": "code",
   "execution_count": 12,
   "id": "220101d6-8cbb-4b5e-b923-b24528ea3de6",
   "metadata": {},
   "outputs": [
    {
     "name": "stdout",
     "output_type": "stream",
     "text": [
      "  team  points  assists  rebound\n",
      "0    A      90       12       56\n",
      "1    B      56       34       43\n",
      "2    C      78       23       55\n",
      "3    D      88       44       12\n",
      "   team variable  value\n",
      "0     A   points     90\n",
      "1     B   points     56\n",
      "2     C   points     78\n",
      "3     D   points     88\n",
      "4     A  assists     12\n",
      "5     B  assists     34\n",
      "6     C  assists     23\n",
      "7     D  assists     44\n",
      "8     A  rebound     56\n",
      "9     B  rebound     43\n",
      "10    C  rebound     55\n",
      "11    D  rebound     12\n"
     ]
    }
   ],
   "source": [
    "df=pd.DataFrame({\"team\":['A','B','C','D'],\"points\":[90,56,78,88],\"assists\":[12,34,23,44],\"rebound\":[56,43,55,12]})\n",
    "print(df)\n",
    "df=pd.melt(df,id_vars=\"team\",value_vars=['points','assists','rebound'])\n",
    "print(df)"
   ]
  },
  {
   "cell_type": "code",
   "execution_count": null,
   "id": "a86c335e-e4df-4934-8312-c2818413bfc6",
   "metadata": {},
   "outputs": [],
   "source": []
  },
  {
   "cell_type": "code",
   "execution_count": null,
   "id": "a5887cf7-51f6-420d-b9bc-2b98a22edac7",
   "metadata": {},
   "outputs": [],
   "source": []
  }
 ],
 "metadata": {
  "kernelspec": {
   "display_name": "Python 3 (ipykernel)",
   "language": "python",
   "name": "python3"
  },
  "language_info": {
   "codemirror_mode": {
    "name": "ipython",
    "version": 3
   },
   "file_extension": ".py",
   "mimetype": "text/x-python",
   "name": "python",
   "nbconvert_exporter": "python",
   "pygments_lexer": "ipython3",
   "version": "3.11.5"
  }
 },
 "nbformat": 4,
 "nbformat_minor": 5
}
