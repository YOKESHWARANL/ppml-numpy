{
 "cells": [
  {
   "cell_type": "code",
   "execution_count": 1,
   "id": "f205e9f8",
   "metadata": {},
   "outputs": [
    {
     "name": "stdout",
     "output_type": "stream",
     "text": [
      "\n",
      "Original Dataframe:\n",
      "       Name category  value  score\n",
      "0    Alice        A      1     62\n",
      "1      Bob        B      2     75\n",
      "2  Charlie        A      2     94\n",
      "3    Alice        B      4     90\n",
      "4      Bob        A      1     79\n",
      "5  Charlie        B      1     86\n",
      "\n",
      "Group by name and Aggregation with one column:\n",
      "       Name  value\n",
      "0    Alice      5\n",
      "1      Bob      3\n",
      "2  Charlie      3\n"
     ]
    }
   ],
   "source": [
    "import numpy as np \n",
    "import pandas as pd \n",
    "df=pd.DataFrame({'Name':['Alice', 'Bob', 'Charlie', 'Alice', 'Bob', 'Charlie'], 'category':['A', 'B', 'A', 'B', 'A', 'B'], \n",
    "'value':np.random.randint(1, 5, size=6), \n",
    "'score':np.random.randint(60, 100, size=6) \n",
    "}) \n",
    "print(\"\\nOriginal Dataframe:\\n\",df) \n",
    "#Data grouping and Aggregation: with one column sum \n",
    "df1=df.groupby(('Name'),as_index=False)['value'].sum() \n",
    "print(\"\\nGroup by name and Aggregation with one column:\\n\",df1) \n",
    " \n"
   ]
  },
  {
   "cell_type": "code",
   "execution_count": 2,
   "id": "02a1ef8d",
   "metadata": {},
   "outputs": [
    {
     "name": "stdout",
     "output_type": "stream",
     "text": [
      "\n",
      "Group by name and Aggregation with two column:\n",
      "       Name  value  score\n",
      "0    Alice      5    152\n",
      "1      Bob      3    154\n",
      "2  Charlie      3    180\n"
     ]
    }
   ],
   "source": [
    "#Data grouping and Aggregation: with two column sum \n",
    "df2=df.groupby(('Name'),as_index=False)[['value','score']].sum() \n",
    "print(\"\\nGroup by name and Aggregation with two column:\\n\",df2) \n"
   ]
  },
  {
   "cell_type": "code",
   "execution_count": 3,
   "id": "91351cc5",
   "metadata": {},
   "outputs": [
    {
     "name": "stdout",
     "output_type": "stream",
     "text": [
      "\n",
      "Group by name and Aggregation with one column using agg function:\n",
      "       Name  value\n",
      "0    Alice      5\n",
      "1      Bob      3\n",
      "2  Charlie      3\n"
     ]
    }
   ],
   "source": [
    "#Data grouping and Aggregation: with one column sum \n",
    "df3=df.groupby(('Name'),as_index=False)['value'].agg('sum') \n",
    "print(\"\\nGroup by name and Aggregation with one column using agg function:\\n\",df3)\n"
   ]
  },
  {
   "cell_type": "code",
   "execution_count": 4,
   "id": "7f09d474",
   "metadata": {},
   "outputs": [
    {
     "name": "stdout",
     "output_type": "stream",
     "text": [
      "\n",
      "Group by name and multiple Aggregation functions :\n",
      "         value              score      \n",
      "          sum mean min max   sum  mean\n",
      "Name                                  \n",
      "Alice       5  2.5   1   4   152  76.0\n",
      "Bob         3  1.5   1   2   154  77.0\n",
      "Charlie     3  1.5   1   2   180  90.0\n"
     ]
    }
   ],
   "source": [
    "#Group by 'Name' and calculate multiple aggregations \n",
    "df4 = df.groupby('Name').agg({ \n",
    "'value': ['sum', 'mean', 'min', 'max'], \n",
    "'score': ['sum', 'mean']}) \n",
    "print(\"\\nGroup by name and multiple Aggregation functions :\\n\", df4)\n"
   ]
  },
  {
   "cell_type": "code",
   "execution_count": 5,
   "id": "325d116f",
   "metadata": {},
   "outputs": [
    {
     "name": "stdout",
     "output_type": "stream",
     "text": [
      "\n",
      " Group and count:\n",
      "       Name  value\n",
      "0    Alice      2\n",
      "1      Bob      2\n",
      "2  Charlie      2\n"
     ]
    }
   ],
   "source": [
    "df5=df.groupby(('Name'),as_index=False)['value'].count()\n",
    "print(\"\\n Group and count:\\n\",df5)"
   ]
  },
  {
   "cell_type": "code",
   "execution_count": 6,
   "id": "f9841503",
   "metadata": {},
   "outputs": [
    {
     "name": "stdout",
     "output_type": "stream",
     "text": [
      "\n",
      " Group and count :\n",
      "          category  value  score\n",
      "Name                           \n",
      "Alice           2      2      2\n",
      "Bob             2      2      2\n",
      "Charlie         2      2      2\n"
     ]
    }
   ],
   "source": [
    "df6=df.groupby(('Name')).count()\n",
    "print(\"\\n Group and count :\\n\",df6)"
   ]
  },
  {
   "cell_type": "code",
   "execution_count": 8,
   "id": "61278da1",
   "metadata": {},
   "outputs": [
    {
     "name": "stdout",
     "output_type": "stream",
     "text": [
      "\n",
      " Group and display from first:\n",
      "       Name  value\n",
      "0    Alice      1\n",
      "1      Bob      2\n",
      "2  Charlie      2\n"
     ]
    }
   ],
   "source": [
    "df7=df.groupby(('Name'),as_index=False)['value'].first()\n",
    "print(\"\\n Group and display from first:\\n\",df7)"
   ]
  },
  {
   "cell_type": "code",
   "execution_count": 9,
   "id": "75f49578",
   "metadata": {},
   "outputs": [
    {
     "name": "stdout",
     "output_type": "stream",
     "text": [
      "\n",
      " Group and display from first :\n",
      "         category  value  score\n",
      "Name                          \n",
      "Alice          A      1     62\n",
      "Bob            B      2     75\n",
      "Charlie        A      2     94\n"
     ]
    }
   ],
   "source": [
    "df8=df.groupby(('Name')).first()\n",
    "print(\"\\n Group and display from first :\\n\",df8)"
   ]
  },
  {
   "cell_type": "code",
   "execution_count": 12,
   "id": "b2c1a40c",
   "metadata": {},
   "outputs": [
    {
     "name": "stdout",
     "output_type": "stream",
     "text": [
      "\n",
      " Group and display from last:\n",
      "       Name  value\n",
      "0    Alice      4\n",
      "1      Bob      1\n",
      "2  Charlie      1\n"
     ]
    }
   ],
   "source": [
    "df9=df.groupby(('Name'),as_index=False)['value'].last()\n",
    "print(\"\\n Group and display from last:\\n\",df9)"
   ]
  },
  {
   "cell_type": "code",
   "execution_count": 13,
   "id": "b2ee7527",
   "metadata": {},
   "outputs": [
    {
     "name": "stdout",
     "output_type": "stream",
     "text": [
      "\n",
      " Group and display from size:\n",
      "       Name  size\n",
      "0    Alice     2\n",
      "1      Bob     2\n",
      "2  Charlie     2\n"
     ]
    }
   ],
   "source": [
    "df10=df.groupby(('Name'),as_index=False)['value'].size()\n",
    "print(\"\\n Group and display from size:\\n\",df10)"
   ]
  },
  {
   "cell_type": "code",
   "execution_count": null,
   "id": "d1b52584",
   "metadata": {},
   "outputs": [],
   "source": []
  }
 ],
 "metadata": {
  "kernelspec": {
   "display_name": "Python 3 (ipykernel)",
   "language": "python",
   "name": "python3"
  },
  "language_info": {
   "codemirror_mode": {
    "name": "ipython",
    "version": 3
   },
   "file_extension": ".py",
   "mimetype": "text/x-python",
   "name": "python",
   "nbconvert_exporter": "python",
   "pygments_lexer": "ipython3",
   "version": "3.11.3"
  }
 },
 "nbformat": 4,
 "nbformat_minor": 5
}
